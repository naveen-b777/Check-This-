{
 "cells": [
  {
   "cell_type": "code",
   "execution_count": 42,
   "metadata": {},
   "outputs": [
    {
     "name": "stdout",
     "output_type": "stream",
     "text": [
      "* * * * * * *  \n",
      "*           *  \n",
      "*           *  \n",
      "*           *  \n",
      "*           *  \n",
      "*           *  \n",
      "*           *  \n",
      "* * * * * * *  \n"
     ]
    }
   ],
   "source": [
    "# 0            [[[NOTE: i's are for rows and j's are for columns]]]\n",
    "for i in range(8):\n",
    "    for j in range(7):\n",
    "        if i==0 or i==7:\n",
    "            print(\"*\",end=\" \")\n",
    "        elif (j==0 or j==6) and (i>0 and i<7):\n",
    "            print(\"*\",end=\" \")\n",
    "        else:\n",
    "            print(\" \",end=\" \")\n",
    "    print(\" \")"
   ]
  },
  {
   "cell_type": "code",
   "execution_count": 46,
   "metadata": {},
   "outputs": [
    {
     "name": "stdout",
     "output_type": "stream",
     "text": [
      "*             \n",
      "*             \n",
      "*             \n",
      "*             \n",
      "*             \n",
      "*             \n",
      "*             \n",
      "*             \n"
     ]
    }
   ],
   "source": [
    "#1\n",
    "for i in range(8):\n",
    "    for j in range(7):\n",
    "        if(j==0):\n",
    "            print('*',end=' ')\n",
    "        else:\n",
    "            print(' ',end=' ')\n",
    "    print('')"
   ]
  },
  {
   "cell_type": "code",
   "execution_count": 93,
   "metadata": {},
   "outputs": [
    {
     "name": "stdout",
     "output_type": "stream",
     "text": [
      "* * * * * * * \n",
      "            * \n",
      "            * \n",
      "            * \n",
      "* * * * * * * \n",
      "*             \n",
      "*             \n",
      "* * * * * * * \n",
      "              \n"
     ]
    }
   ],
   "source": [
    "#2\n",
    "for i in range(9):\n",
    "    for j in range(7):\n",
    "        if i==0 or i==7 or i==4:\n",
    "            print(\"*\",end=\" \")\n",
    "        elif((i>0 and i<4) and j==6) or (i==2 and j==6):\n",
    "            print(\"*\",end=\" \")\n",
    "        elif(i>4 and i<8 and j==0):\n",
    "            print(\"*\",end=\" \")\n",
    "        else:\n",
    "            print(\" \",end=\" \")\n",
    "    print(\"\") "
   ]
  },
  {
   "cell_type": "code",
   "execution_count": 80,
   "metadata": {},
   "outputs": [
    {
     "name": "stdout",
     "output_type": "stream",
     "text": [
      "* * * * * * * \n",
      "            * \n",
      "            * \n",
      "            * \n",
      "* * * * * * * \n",
      "            * \n",
      "            * \n",
      "* * * * * * * \n"
     ]
    }
   ],
   "source": [
    "for i in range(9):\n",
    "    for j in range(7):\n",
    "        if(i==0 or i==4 or i==7):\n",
    "            print(\"*\",end=\" \")\n",
    "        elif((0<i<4) and (j==6)):\n",
    "            print(\"*\",end=\" \")\n",
    "        elif((4<i<7) and (j==6)):\n",
    "            print(\"*\",end=\" \")\n",
    "        else:\n",
    "            print(\" \",end=\" \")\n",
    "    print('')"
   ]
  },
  {
   "cell_type": "code",
   "execution_count": 94,
   "metadata": {},
   "outputs": [
    {
     "name": "stdout",
     "output_type": "stream",
     "text": [
      "*           * \n",
      "*           * \n",
      "*           * \n",
      "*           * \n",
      "* * * * * * * \n",
      "            * \n",
      "            * \n",
      "            * \n"
     ]
    }
   ],
   "source": [
    "for i in range(8):\n",
    "    for j in range(7):\n",
    "        if(i==4):\n",
    "            print(\"*\",end=\" \")\n",
    "        elif((0<=i<4) and (j==6)):\n",
    "            print(\"*\",end=\" \")\n",
    "        elif((0<=i<4) and (j==0)):\n",
    "            print(\"*\",end=\" \")\n",
    "        elif((4<i<8) and (j==6)):\n",
    "            print(\"*\",end=\" \")\n",
    "        else:\n",
    "            print(\" \",end=\" \")\n",
    "    print('')"
   ]
  },
  {
   "cell_type": "code",
   "execution_count": 95,
   "metadata": {},
   "outputs": [
    {
     "name": "stdout",
     "output_type": "stream",
     "text": [
      "* * * * * * * \n",
      "*             \n",
      "*             \n",
      "*             \n",
      "* * * * * * * \n",
      "            * \n",
      "            * \n",
      "            * \n",
      "* * * * * * * \n"
     ]
    }
   ],
   "source": [
    "for i in range(9):\n",
    "    for j in range(7):\n",
    "        if(i==0 or i==4 or i==8):\n",
    "            print(\"*\",end=\" \")\n",
    "        elif((0<i<4) and (j==0)):\n",
    "            print(\"*\",end=\" \")\n",
    "        elif((4<i<8) and (j==6)):\n",
    "            print(\"*\",end=\" \")\n",
    "        else:\n",
    "            print(\" \",end=\" \")\n",
    "    print('')    "
   ]
  },
  {
   "cell_type": "code",
   "execution_count": 102,
   "metadata": {},
   "outputs": [
    {
     "name": "stdout",
     "output_type": "stream",
     "text": [
      "* * * * * * * \n",
      "*             \n",
      "*             \n",
      "*             \n",
      "* * * * * * * \n",
      "*           * \n",
      "*           * \n",
      "*           * \n",
      "* * * * * * * \n"
     ]
    }
   ],
   "source": [
    "for i in range(9):\n",
    "    for j in range(7):\n",
    "        if(i==0 or i==4 or i==8):\n",
    "            print(\"*\",end=\" \")\n",
    "        elif((0<i<4) and (j==0)):\n",
    "            print(\"*\",end=\" \")\n",
    "        elif((4<i<8) and (j==0)):\n",
    "            print(\"*\",end=\" \")\n",
    "        elif((4<i<8) and (j==6)):\n",
    "            print(\"*\",end=\" \")\n",
    "        else:\n",
    "            print(\" \",end=\" \")\n",
    "    print('')    "
   ]
  },
  {
   "cell_type": "code",
   "execution_count": 105,
   "metadata": {},
   "outputs": [
    {
     "name": "stdout",
     "output_type": "stream",
     "text": [
      "* * * * * * * \n",
      "            * \n",
      "            * \n",
      "            * \n",
      "            * \n",
      "            * \n",
      "            * \n",
      "            * \n",
      "              \n"
     ]
    }
   ],
   "source": [
    "for i in range(9):\n",
    "    for j in range(7):\n",
    "        if(i==0):\n",
    "            print(\"*\",end=\" \")\n",
    "        elif((0<i<8) and (j==6)):\n",
    "            print(\"*\",end=\" \")\n",
    "        else:\n",
    "            print(\" \",end=\" \")\n",
    "    print('')"
   ]
  },
  {
   "cell_type": "code",
   "execution_count": 2,
   "metadata": {},
   "outputs": [
    {
     "name": "stdout",
     "output_type": "stream",
     "text": [
      "* * * * * * * * \n",
      "*             * \n",
      "*             * \n",
      "*             * \n",
      "* * * * * * * * \n",
      "*             * \n",
      "*             * \n",
      "*             * \n",
      "* * * * * * * * \n"
     ]
    }
   ],
   "source": [
    "for i in range(9):\n",
    "    for j in range(8):\n",
    "        if(i==0 or i==4 or i==8):\n",
    "            print(\"*\",end=\" \")\n",
    "        elif((0<i<4) and (j==0 or j==7)):\n",
    "            print(\"*\",end=\" \")\n",
    "        elif((4<i<8) and (j==0 or j==7)):\n",
    "            print(\"*\",end=\" \")\n",
    "        else:\n",
    "            print(\" \",end=\" \")\n",
    "    print('')"
   ]
  },
  {
   "cell_type": "code",
   "execution_count": 1,
   "metadata": {},
   "outputs": [
    {
     "name": "stdout",
     "output_type": "stream",
     "text": [
      "* * * * * * * \n",
      "*           * \n",
      "*           * \n",
      "*           * \n",
      "* * * * * * * \n",
      "            * \n",
      "            * \n",
      "            * \n",
      "              \n"
     ]
    }
   ],
   "source": [
    "for i in range(9):\n",
    "    for j in range(7):\n",
    "        if(i==0 or i==4):\n",
    "            print(\"*\",end=\" \")\n",
    "        elif((0<i<4) and(j==0 or j==6)):\n",
    "            print(\"*\",end=\" \")\n",
    "        elif((4<i<8) and (j==6)):\n",
    "            print(\"*\",end=\" \")\n",
    "        else:\n",
    "            print(\" \",end=\" \") \n",
    "    print('')\n",
    "    "
   ]
  }
 ],
 "metadata": {
  "kernelspec": {
   "display_name": "Python 3",
   "language": "python",
   "name": "python3"
  },
  "language_info": {
   "codemirror_mode": {
    "name": "ipython",
    "version": 3
   },
   "file_extension": ".py",
   "mimetype": "text/x-python",
   "name": "python",
   "nbconvert_exporter": "python",
   "pygments_lexer": "ipython3",
   "version": "3.8.3"
  }
 },
 "nbformat": 4,
 "nbformat_minor": 4
}
